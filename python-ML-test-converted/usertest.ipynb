{
  "cells": [
    {
      "cell_type": "code",
      "metadata": {},
      "source": [
        "# \uc0ac\uc6a9\uc790 \uc815\ubcf4\ub97c \uc800\uc7a5\ud560 \ub9ac\uc2a4\ud2b8\n",
        "users = []\n",
        "\n",
        "# \uc0ac\uc6a9\uc790 \ucd94\uac00 (Create)\n",
        "def create_user(name, age):\n",
        "    users.append({'name': name, 'age': age})\n",
        "    print(f\"{name}\ub2d8\uc774 \ucd94\uac00\ub418\uc5c8\uc2b5\ub2c8\ub2e4.\")\n",
        "\n",
        "# \uc0ac\uc6a9\uc790 \ubaa9\ub85d \ubcf4\uae30 (Read)\n",
        "def read_users():\n",
        "    if not users:\n",
        "        print(\"\ub4f1\ub85d\ub41c \uc0ac\uc6a9\uc790\uac00 \uc5c6\uc2b5\ub2c8\ub2e4.\")\n",
        "    for user in users:\n",
        "        print(f\"\uc774\ub984: {user['name']}, \ub098\uc774: {user['age']}\")\n",
        "\n",
        "# \uc0ac\uc6a9\uc790 \uc815\ubcf4 \uc218\uc815 (Update)\n",
        "def update_user(name, new_age):\n",
        "    for user in users:\n",
        "        if user['name'] == name:\n",
        "            user['age'] = new_age\n",
        "            print(f\"{name}\ub2d8\uc758 \ub098\uc774\uac00 {new_age}\uc138\ub85c \uc218\uc815\ub418\uc5c8\uc2b5\ub2c8\ub2e4.\")\n",
        "            return\n",
        "    print(f\"{name}\ub2d8\uc744 \ucc3e\uc744 \uc218 \uc5c6\uc2b5\ub2c8\ub2e4.\")\n",
        "\n",
        "# \uc0ac\uc6a9\uc790 \uc0ad\uc81c (Delete)\n",
        "def delete_user(name):\n",
        "    for user in users:\n",
        "        if user['name'] == name:\n",
        "            users.remove(user)\n",
        "            print(f\"{name}\ub2d8\uc774 \uc0ad\uc81c\ub418\uc5c8\uc2b5\ub2c8\ub2e4.\")\n",
        "            return\n",
        "    print(f\"{name}\ub2d8\uc744 \ucc3e\uc744 \uc218 \uc5c6\uc2b5\ub2c8\ub2e4.\")\n",
        "\n",
        "# \ud14c\uc2a4\ud2b8\n",
        "create_user(\"\ucca0\uc218\", 20)\n",
        "create_user(\"\uc601\ud76c\", 25)\n",
        "read_users()\n",
        "update_user(\"\ucca0\uc218\", 21)\n",
        "delete_user(\"\uc601\ud76c\")\n",
        "read_users()\n"
      ],
      "outputs": [],
      "execution_count": null
    }
  ],
  "metadata": {
    "anaconda-cloud": {},
    "kernelspec": {
      "display_name": "Python 3",
      "language": "python",
      "name": "python3"
    },
    "language_info": {
      "codemirror_mode": {
        "name": "ipython",
        "version": 3
      },
      "file_extension": ".py",
      "mimetype": "text/x-python",
      "name": "python",
      "nbconvert_exporter": "python",
      "pygments_lexer": "ipython3",
      "version": "3.6.1"
    }
  },
  "nbformat": 4,
  "nbformat_minor": 4
}