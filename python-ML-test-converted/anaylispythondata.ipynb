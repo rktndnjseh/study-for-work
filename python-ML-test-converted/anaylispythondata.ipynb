{
  "cells": [
    {
      "cell_type": "code",
      "metadata": {},
      "source": [
        "import pandas as pd\n",
        "import numpy as np\n",
        "import matplotlib.pyplot as plt\n",
        "\n",
        "# \ud55c\uae00 \uc124\uc815\n",
        "plt.rcParams['font.family'] = 'Malgun Gothic'\n",
        "plt.rcParams['axes.unicode_minus'] = False\n",
        "\n",
        "# \ub370\uc774\ud130 \ubd88\ub7ec\uc624\uae30 \ubc0f \uc804\ucc98\ub9ac\n",
        "file_path = \"C:/Users/user/Desktop/python-test/water.csv\"\n",
        "raw_df = pd.read_csv(file_path, skiprows=1)\n",
        "columns = raw_df.iloc[0, 1:].tolist()\n",
        "data = raw_df.iloc[1:, :].copy()\n",
        "data.columns = ['\uc77c'] + columns\n",
        "data = data.dropna(how='all').reset_index(drop=True)\n",
        "\n",
        "# \ubb38\uc790\uc5f4 -> \uc22b\uc790 \ubcc0\ud658\n",
        "for col in data.columns[1:]:\n",
        "    data[col] = data[col].str.replace(\",\", \"\").replace(\"-\", np.nan).astype(float)\n",
        "\n",
        "# \ubd84\uc11d\n",
        "monthly_total = data.iloc[:, 1:].sum()\n",
        "monthly_mean = data.iloc[:, 1:].mean()\n",
        "year_total = monthly_total.sum()\n",
        "year_mean = monthly_mean.mean()\n",
        "\n",
        "# \u2705 \ud558\ub098\uc758 \ucc3d\uc5d0 \ub450 \uac1c\uc758 subplot\n",
        "fig, axes = plt.subplots(2, 1, figsize=(12, 10))  # (\ud589, \uc5f4), \ucc3d \ud06c\uae30\n",
        "\n",
        "# 1. \uc6d4\ubcc4 \ucd1d \uacf5\uae09\ub7c9\n",
        "monthly_total.plot(kind='bar', ax=axes[0], color='skyblue')\n",
        "axes[0].set_title(\"\uc6d4\ubcc4 \ucd1d \uacf5\uae09\ub7c9\")\n",
        "axes[0].set_xlabel(\"\uc6d4\")\n",
        "axes[0].set_ylabel(\"\uacf5\uae09\ub7c9 (\ud1a4)\")\n",
        "axes[0].grid(True)\n",
        "\n",
        "# 2. \uc6d4\ubcc4 \ud3c9\uade0 \uacf5\uae09\ub7c9\n",
        "monthly_mean.plot(kind='line', marker='o', linestyle='--', ax=axes[1], color='orange')\n",
        "axes[1].set_title(\"\uc6d4\ubcc4 \ud3c9\uade0 \uacf5\uae09\ub7c9\")\n",
        "axes[1].set_xlabel(\"\uc6d4\")\n",
        "axes[1].set_ylabel(\"\ud3c9\uade0 \uacf5\uae09\ub7c9 (\ud1a4)\")\n",
        "axes[1].grid(True)\n",
        "\n",
        "plt.tight_layout()\n",
        "plt.show()\n",
        "\n",
        "# \uc5f0\uac04 \uc694\uc57d \ucd9c\ub825\n",
        "print(f\"\u2705 \uc5f0\uac04 \ucd1d \uacf5\uae09\ub7c9: {year_total:,.2f} \ud1a4\")\n",
        "print(f\"\u2705 \uc5f0\uac04 \ud3c9\uade0 \uacf5\uae09\ub7c9: {year_mean:,.2f} \ud1a4\")\n"
      ],
      "outputs": [],
      "execution_count": null
    }
  ],
  "metadata": {
    "anaconda-cloud": {},
    "kernelspec": {
      "display_name": "Python 3",
      "language": "python",
      "name": "python3"
    },
    "language_info": {
      "codemirror_mode": {
        "name": "ipython",
        "version": 3
      },
      "file_extension": ".py",
      "mimetype": "text/x-python",
      "name": "python",
      "nbconvert_exporter": "python",
      "pygments_lexer": "ipython3",
      "version": "3.6.1"
    }
  },
  "nbformat": 4,
  "nbformat_minor": 4
}