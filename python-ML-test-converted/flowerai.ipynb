{
  "cells": [
    {
      "cell_type": "code",
      "metadata": {},
      "source": [
        "from sklearn.datasets import load_iris\n",
        "from sklearn.model_selection import train_test_split\n",
        "from sklearn.ensemble import RandomForestClassifier\n",
        "from sklearn.metrics import accuracy_score, classification_report\n",
        "import pandas as pd\n",
        "\n",
        "# 1. \ub370\uc774\ud130 \ubd88\ub7ec\uc624\uae30\n",
        "iris = load_iris()\n",
        "X = iris.data\n",
        "y = iris.target\n",
        "feature_names = iris.feature_names\n",
        "target_names = iris.target_names\n",
        "\n",
        "# 2. \ud559\uc2b5/\ud14c\uc2a4\ud2b8 \ub370\uc774\ud130 \ub098\ub204\uae30\n",
        "X_train, X_test, y_train, y_test = train_test_split(X, y, test_size=0.3, random_state=42)\n",
        "\n",
        "# 3. \ubaa8\ub378 \ud6c8\ub828\n",
        "model = RandomForestClassifier(random_state=42)\n",
        "model.fit(X_train, y_train)\n",
        "\n",
        "# 4. \uc608\uce21 \ubc0f \ud3c9\uac00\n",
        "y_pred = model.predict(X_test)\n",
        "\n",
        "# 5. \uacb0\uacfc \ucd9c\ub825\n",
        "print(\"\u2705 \uc815\ud655\ub3c4:\", accuracy_score(y_test, y_pred))\n",
        "print(\"\\n\ud83d\udcca \ubd84\ub958 \ub9ac\ud3ec\ud2b8:\\n\", classification_report(y_test, y_pred, target_names=target_names))\n",
        "\n",
        "# 6. \uc608\uce21 \uc608\uc2dc\n",
        "example = [[5.1, 3.5, 1.4, 0.2]]  # \uaf43\uc78e, \uaf43\ubc1b\uce68\uc758 \uae38\uc774/\ub108\ube44\n",
        "predicted = model.predict(example)\n",
        "print(f\"\\n\ud83c\udf38 \uc608\uce21 \uacb0\uacfc: {target_names[predicted[0]]}\")\n"
      ],
      "outputs": [],
      "execution_count": null
    }
  ],
  "metadata": {
    "anaconda-cloud": {},
    "kernelspec": {
      "display_name": "Python 3",
      "language": "python",
      "name": "python3"
    },
    "language_info": {
      "codemirror_mode": {
        "name": "ipython",
        "version": 3
      },
      "file_extension": ".py",
      "mimetype": "text/x-python",
      "name": "python",
      "nbconvert_exporter": "python",
      "pygments_lexer": "ipython3",
      "version": "3.6.1"
    }
  },
  "nbformat": 4,
  "nbformat_minor": 4
}