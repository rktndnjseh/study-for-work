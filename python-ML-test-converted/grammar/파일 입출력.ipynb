{
  "cells": [
    {
      "cell_type": "code",
      "metadata": {},
      "source": [
        "# \ud30c\uc77c \uc4f0\uae30\n",
        "with open(\"sample.txt\", \"w\", encoding=\"utf-8\") as f:\n",
        "    f.write(\"Hello, Python!\\n\")\n",
        "\n",
        "# \ud30c\uc77c \uc77d\uae30\n",
        "with open(\"sample.txt\", \"r\", encoding=\"utf-8\") as f:\n",
        "    print(f.read())\n"
      ],
      "outputs": [],
      "execution_count": null
    }
  ],
  "metadata": {
    "anaconda-cloud": {},
    "kernelspec": {
      "display_name": "Python 3",
      "language": "python",
      "name": "python3"
    },
    "language_info": {
      "codemirror_mode": {
        "name": "ipython",
        "version": 3
      },
      "file_extension": ".py",
      "mimetype": "text/x-python",
      "name": "python",
      "nbconvert_exporter": "python",
      "pygments_lexer": "ipython3",
      "version": "3.6.1"
    }
  },
  "nbformat": 4,
  "nbformat_minor": 4
}