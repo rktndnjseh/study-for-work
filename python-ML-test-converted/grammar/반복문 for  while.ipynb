{
  "cells": [
    {
      "cell_type": "code",
      "metadata": {},
      "source": [
        "# for \ubb38\n",
        "for i in range(3):\n",
        "    print(f\"{i+1}\ubc88\uc9f8 \ubc18\ubcf5\")\n",
        "\n",
        "# while \ubb38\n",
        "count = 0\n",
        "while count < 3:\n",
        "    print(\"Hello\")\n",
        "    count += 1\n"
      ],
      "outputs": [],
      "execution_count": null
    }
  ],
  "metadata": {
    "anaconda-cloud": {},
    "kernelspec": {
      "display_name": "Python 3",
      "language": "python",
      "name": "python3"
    },
    "language_info": {
      "codemirror_mode": {
        "name": "ipython",
        "version": 3
      },
      "file_extension": ".py",
      "mimetype": "text/x-python",
      "name": "python",
      "nbconvert_exporter": "python",
      "pygments_lexer": "ipython3",
      "version": "3.6.1"
    }
  },
  "nbformat": 4,
  "nbformat_minor": 4
}