{
  "cells": [
    {
      "cell_type": "code",
      "metadata": {},
      "source": [
        "score = 85\n",
        "\n",
        "if score >= 90:\n",
        "    print(\"A \ud559\uc810\")\n",
        "elif score >= 80:\n",
        "    print(\"B \ud559\uc810\")\n",
        "else:\n",
        "    print(\"C \ud559\uc810\")\n"
      ],
      "outputs": [],
      "execution_count": null
    }
  ],
  "metadata": {
    "anaconda-cloud": {},
    "kernelspec": {
      "display_name": "Python 3",
      "language": "python",
      "name": "python3"
    },
    "language_info": {
      "codemirror_mode": {
        "name": "ipython",
        "version": 3
      },
      "file_extension": ".py",
      "mimetype": "text/x-python",
      "name": "python",
      "nbconvert_exporter": "python",
      "pygments_lexer": "ipython3",
      "version": "3.6.1"
    }
  },
  "nbformat": 4,
  "nbformat_minor": 4
}