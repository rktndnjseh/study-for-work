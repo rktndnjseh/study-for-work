{
  "cells": [
    {
      "cell_type": "code",
      "metadata": {},
      "source": [
        "# \ub9ac\uc2a4\ud2b8\n",
        "fruits = [\"apple\", \"banana\", \"cherry\"]\n",
        "fruits.append(\"orange\")\n",
        "print(fruits[1])  # banana\n",
        "\n",
        "# \ub515\uc154\ub108\ub9ac\n",
        "person = {\"name\": \"Bob\", \"age\": 30}\n",
        "print(person[\"name\"])  # Bob\n"
      ],
      "outputs": [],
      "execution_count": null
    }
  ],
  "metadata": {
    "anaconda-cloud": {},
    "kernelspec": {
      "display_name": "Python 3",
      "language": "python",
      "name": "python3"
    },
    "language_info": {
      "codemirror_mode": {
        "name": "ipython",
        "version": 3
      },
      "file_extension": ".py",
      "mimetype": "text/x-python",
      "name": "python",
      "nbconvert_exporter": "python",
      "pygments_lexer": "ipython3",
      "version": "3.6.1"
    }
  },
  "nbformat": 4,
  "nbformat_minor": 4
}