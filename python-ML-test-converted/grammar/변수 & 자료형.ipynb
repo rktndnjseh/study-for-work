{
  "cells": [
    {
      "cell_type": "code",
      "metadata": {},
      "source": [
        "name = \"Alice\"\n",
        "age = 25\n",
        "height = 165.5\n",
        "is_student = True\n",
        "\n",
        "print(name, age, height, is_student)\n"
      ],
      "outputs": [],
      "execution_count": null
    }
  ],
  "metadata": {
    "anaconda-cloud": {},
    "kernelspec": {
      "display_name": "Python 3",
      "language": "python",
      "name": "python3"
    },
    "language_info": {
      "codemirror_mode": {
        "name": "ipython",
        "version": 3
      },
      "file_extension": ".py",
      "mimetype": "text/x-python",
      "name": "python",
      "nbconvert_exporter": "python",
      "pygments_lexer": "ipython3",
      "version": "3.6.1"
    }
  },
  "nbformat": 4,
  "nbformat_minor": 4
}